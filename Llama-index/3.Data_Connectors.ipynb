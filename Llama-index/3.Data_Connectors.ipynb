{
  "nbformat": 4,
  "nbformat_minor": 0,
  "metadata": {
    "colab": {
      "provenance": [],
      "authorship_tag": "ABX9TyMmecEa+WHznLAOWzzTvUwk",
      "include_colab_link": true
    },
    "kernelspec": {
      "name": "python3",
      "display_name": "Python 3"
    },
    "language_info": {
      "name": "python"
    }
  },
  "cells": [
    {
      "cell_type": "markdown",
      "metadata": {
        "id": "view-in-github",
        "colab_type": "text"
      },
      "source": [
        "<a href=\"https://colab.research.google.com/github/SamurAIGPT/LlamaIndex-course/blob/main/dataconnectors/Data_Connectors.ipynb\" target=\"_parent\"><img src=\"https://colab.research.google.com/assets/colab-badge.svg\" alt=\"Open In Colab\"/></a>"
      ]
    },
    {
      "cell_type": "markdown",
      "source": [
        "# Data Connector\n",
        "\n",
        "A data connector in LlamaIndex does the task of taking data from different sources and convert the data into Document format which can be ingested by LlamaIndex\n",
        "\n",
        "LlamaIndex supports a bunch of Data Connectors which helps you read data from Webpages, PDF, Youtube videos, Notion docs, Slack message, Google docs etc.\n",
        "\n",
        "Let's discuss few of these with an example"
      ],
      "metadata": {
        "id": "cv1K2unMDaPr"
      }
    },
    {
      "cell_type": "code",
      "execution_count": null,
      "metadata": {
        "id": "p_g26P4s-oTE"
      },
      "outputs": [],
      "source": [
        "!pip install llama-index openai"
      ]
    },
    {
      "cell_type": "markdown",
      "source": [
        "### Youtube document loader\n",
        "\n",
        "Let's see how we can convert the transcripts from youtube videos into documents format"
      ],
      "metadata": {
        "id": "efZgbN8FJRTg"
      }
    },
    {
      "cell_type": "code",
      "source": [
        "from llama_index import download_loader\n",
        "\n",
        "YoutubeTranscriptReader = download_loader(\"YoutubeTranscriptReader\")\n",
        "\n",
        "loader = YoutubeTranscriptReader()\n",
        "youtube_documents = loader.load_data(ytlinks=['https://www.youtube.com/watch?v=nHcbHdgVUJg&ab_channel=WintWealth'])"
      ],
      "metadata": {
        "id": "4VyBKMWGHDev"
      },
      "execution_count": 24,
      "outputs": []
    },
    {
      "cell_type": "markdown",
      "source": [
        "### PDF loader"
      ],
      "metadata": {
        "id": "SB7FcI74JqvK"
      }
    },
    {
      "cell_type": "markdown",
      "source": [
        "Download the pdf file"
      ],
      "metadata": {
        "id": "8jNWF8NgKFBj"
      }
    },
    {
      "cell_type": "code",
      "source": [
        "!wget https://www.africau.edu/images/default/sample.pdf"
      ],
      "metadata": {
        "id": "QoR7hK_yJ_uG"
      },
      "execution_count": null,
      "outputs": []
    },
    {
      "cell_type": "markdown",
      "source": [
        "Now convert it to documents format"
      ],
      "metadata": {
        "id": "Vp4eVGlJKIK-"
      }
    },
    {
      "cell_type": "code",
      "source": [
        "from pathlib import Path\n",
        "from llama_index import download_loader\n",
        "\n",
        "PDFReader = download_loader(\"PDFReader\")\n",
        "\n",
        "loader = PDFReader()\n",
        "\n",
        "pdf_document = loader.load_data(file=Path('./sample.pdf'))"
      ],
      "metadata": {
        "id": "vaibV1VGHOom"
      },
      "execution_count": 26,
      "outputs": []
    },
    {
      "cell_type": "markdown",
      "source": [
        "### Notion Loader"
      ],
      "metadata": {
        "id": "RvSUp1xfNsQC"
      }
    },
    {
      "cell_type": "code",
      "source": [
        "from llama_index import download_loader\n",
        "import os\n",
        "\n",
        "NotionPageReader = download_loader('NotionPageReader')\n",
        "\n",
        "integration_token = \"your-notion-token\"\n",
        "database_id = \"your-database-id\"\n",
        "reader = NotionPageReader(integration_token=integration_token)\n",
        "notion_documents = reader.load_data(database_id=database_id)"
      ],
      "metadata": {
        "id": "_RaJxVB0KPvF"
      },
      "execution_count": 27,
      "outputs": []
    },
    {
      "cell_type": "code",
      "source": [
        "all_documents = youtube_documents + pdf_document + notion_documents"
      ],
      "metadata": {
        "id": "jhB7jgmoN22h"
      },
      "execution_count": 28,
      "outputs": []
    },
    {
      "cell_type": "markdown",
      "source": [
        "Now let's create a Q&A bot over these documents"
      ],
      "metadata": {
        "id": "95fe8wB3OYUF"
      }
    },
    {
      "cell_type": "code",
      "source": [
        "import os\n",
        "from llama_index import VectorStoreIndex\n",
        "os.environ[\"OPENAI_API_KEY\"] = \"your-key\"\n",
        "index = VectorStoreIndex.from_documents(all_documents)"
      ],
      "metadata": {
        "id": "SJp8od3fN9GA"
      },
      "execution_count": 30,
      "outputs": []
    },
    {
      "cell_type": "code",
      "source": [
        "query_engine = index.as_query_engine()\n",
        "response = query_engine.query(\"Does IIT help?\")\n",
        "print(response)"
      ],
      "metadata": {
        "colab": {
          "base_uri": "https://localhost:8080/"
        },
        "id": "e4-FkqQVOUIz",
        "outputId": "5ea314f6-9513-4227-e7bf-25d7f1f6e92d"
      },
      "execution_count": 31,
      "outputs": [
        {
          "output_type": "stream",
          "name": "stdout",
          "text": [
            "\n",
            "Yes, IIT can help in certain situations. For example, having an IIT degree can give a founder access to a larger network of investors and potential partners. It can also give them more credibility when pitching their startup. However, it is not a guarantee of success and there are many successful founders who do not have an IIT degree. Ultimately, it is up to the individual to prove themselves and their abilities.\n"
          ]
        }
      ]
    }
  ]
}